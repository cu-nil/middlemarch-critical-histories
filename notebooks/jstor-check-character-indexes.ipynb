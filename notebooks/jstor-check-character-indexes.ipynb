{
 "cells": [
  {
   "cell_type": "markdown",
   "metadata": {},
   "source": [
    "# Checking and retrieving character indexes from quotiations\n",
    "\n"
   ]
  },
  {
   "cell_type": "markdown",
   "metadata": {},
   "source": [
    "## Import libraries\n",
    "Run the cell below to import libraries"
   ]
  },
  {
   "cell_type": "code",
   "execution_count": 4,
   "metadata": {},
   "outputs": [],
   "source": [
    "from text_matcher.matcher import Text, Matcher\n",
    "import json\n",
    "import pandas as pd\n",
    "from IPython.display import clear_output\n",
    "%matplotlib inline\n",
    "import matplotlib.pyplot as plt\n",
    "plt.rcParams[\"figure.figsize\"] = [16, 6]"
   ]
  },
  {
   "cell_type": "markdown",
   "metadata": {},
   "source": [
    "## Load in our data files:"
   ]
  },
  {
   "cell_type": "code",
   "execution_count": 5,
   "metadata": {},
   "outputs": [],
   "source": [
    "# Load the data. \n",
    "with open('part-1.jsonl') as f: \n",
    "    rawCriticism = f.readlines()\n",
    "\n",
    "# Parse the data. \n",
    "data = [json.loads(line) for line in rawCriticism]\n",
    "\n",
    "# Load Middlemarch\n",
    "with open('middlemarch.txt') as f: \n",
    "    rawMM = f.read()\n",
    "\n",
    "mm = Text(rawMM, 'Middlemarch')"
   ]
  },
  {
   "cell_type": "code",
   "execution_count": 5,
   "metadata": {},
   "outputs": [
    {
     "name": "stdout",
     "output_type": "stream",
     "text": [
      "\r",
      " Matching article 5883 of 5884"
     ]
    }
   ],
   "source": [
    "for i, article in enumerate(data): \n",
    "    clear_output()\n",
    "    print('\\r', 'Matching article %s of %s' % (i, len(data)), end='')\n",
    "    if 'numMatches' not in article: \n",
    "        articleText = Text(article['fullText'], article['id'])\n",
    "        article['numMatches'], article['Locations in A'], article['Locations in B'] = \\\n",
    "        Matcher(mm, articleText).match()"
   ]
  },
  {
   "cell_type": "code",
   "execution_count": 12,
   "metadata": {},
   "outputs": [],
   "source": [
    "# Write output somewhere. \n",
    "with open('default.json', 'w') as outfile: \n",
    "    json.dump(data, outfile)"
   ]
  },
  {
   "cell_type": "code",
   "execution_count": 6,
   "metadata": {},
   "outputs": [],
   "source": [
    "df = pd.read_json('../Middlematch/hyperparameter-data/default.json')"
   ]
  },
  {
   "cell_type": "code",
   "execution_count": 54,
   "metadata": {},
   "outputs": [],
   "source": [
    "df.drop('fullText', axis=1, inplace=True)"
   ]
  },
  {
   "cell_type": "code",
   "execution_count": 55,
   "metadata": {},
   "outputs": [],
   "source": [
    "df.to_json('hyperparameter-data/t3-c5-n2-m8-with-stops.json')"
   ]
  },
  {
   "cell_type": "code",
   "execution_count": 12,
   "metadata": {},
   "outputs": [
    {
     "data": {
      "text/plain": [
       "Victorian Studies                                  459\n",
       "George Eliot - George Henry Lewes Studies          231\n",
       "Nineteenth-Century Fiction                         192\n",
       "The Modern Language Review                         192\n",
       "The Review of English Studies                      190\n",
       "PMLA                                               154\n",
       "NOVEL: A Forum on Fiction                          148\n",
       "Nineteenth-Century Literature                      139\n",
       "Studies in the Novel                               124\n",
       "ELH                                                102\n",
       "Studies in English Literature, 1500-1900           100\n",
       "Dickens Studies Annual                              97\n",
       "The Journal of English and Germanic Philology       89\n",
       "Style                                               88\n",
       "Victorian Literature and Culture                    85\n",
       "Modern Philology                                    71\n",
       "Modern Fiction Studies                              58\n",
       "The George Eliot, George Henry Lewes Newsletter     57\n",
       "Victorian Review                                    57\n",
       "The Hudson Review                                   54\n",
       "Name: isPartOf, dtype: int64"
      ]
     },
     "execution_count": 12,
     "metadata": {},
     "output_type": "execute_result"
    }
   ],
   "source": [
    "df['isPartOf'].value_counts()[:20]"
   ]
  },
  {
   "cell_type": "code",
   "execution_count": 57,
   "metadata": {},
   "outputs": [
    {
     "data": {
      "text/plain": [
       "count            983\n",
       "unique           461\n",
       "top       2016-01-01\n",
       "freq              12\n",
       "Name: datePublished, dtype: object"
      ]
     },
     "execution_count": 57,
     "metadata": {},
     "output_type": "execute_result"
    }
   ],
   "source": [
    "articlesWithMatches = df[df['Locations in A'].apply(lambda x: len(x) > 0)]\n",
    "articlesWithMatches.datePublished.describe()"
   ]
  },
  {
   "cell_type": "code",
   "execution_count": 29,
   "metadata": {},
   "outputs": [
    {
     "data": {
      "text/plain": [
       "2558"
      ]
     },
     "execution_count": 29,
     "metadata": {},
     "output_type": "execute_result"
    }
   ],
   "source": [
    "sum([len(item) for item in df['Locations in A'].values])"
   ]
  },
  {
   "cell_type": "code",
   "execution_count": 77,
   "metadata": {},
   "outputs": [],
   "source": [
    "pd.set_option('display.max_columns', None)\n",
    "pd.set_option('display.width', None)\n",
    "pd.set_option('display.max_colwidth', None)"
   ]
  },
  {
   "cell_type": "code",
   "execution_count": 81,
   "metadata": {},
   "outputs": [],
   "source": [
    "chapters = df[df['docType'] == 'chapter']"
   ]
  },
  {
   "cell_type": "code",
   "execution_count": 93,
   "metadata": {},
   "outputs": [],
   "source": [
    "df.to_csv('all.csv')"
   ]
  },
  {
   "cell_type": "code",
   "execution_count": 5,
   "metadata": {},
   "outputs": [],
   "source": [
    "#df = pd.read_json('hyperparameter-data/t3-c5-n2-m8-no-stops.json')\n",
    "df.drop('fullText', axis=1, inplace=True)"
   ]
  },
  {
   "cell_type": "code",
   "execution_count": 8,
   "metadata": {},
   "outputs": [],
   "source": [
    "df.to_json('hyperparameter-data/t3-c5-n2-m8-no-stops.json')"
   ]
  },
  {
   "cell_type": "code",
   "execution_count": 13,
   "metadata": {},
   "outputs": [
    {
     "data": {
      "text/html": [
       "<div>\n",
       "<style scoped>\n",
       "    .dataframe tbody tr th:only-of-type {\n",
       "        vertical-align: middle;\n",
       "    }\n",
       "\n",
       "    .dataframe tbody tr th {\n",
       "        vertical-align: top;\n",
       "    }\n",
       "\n",
       "    .dataframe thead th {\n",
       "        text-align: right;\n",
       "    }\n",
       "</style>\n",
       "<table border=\"1\" class=\"dataframe\">\n",
       "  <thead>\n",
       "    <tr style=\"text-align: right;\">\n",
       "      <th></th>\n",
       "      <th>creator</th>\n",
       "      <th>datePublished</th>\n",
       "      <th>docSubType</th>\n",
       "      <th>docType</th>\n",
       "      <th>id</th>\n",
       "      <th>identifier</th>\n",
       "      <th>isPartOf</th>\n",
       "      <th>issueNumber</th>\n",
       "      <th>language</th>\n",
       "      <th>outputFormat</th>\n",
       "      <th>...</th>\n",
       "      <th>title</th>\n",
       "      <th>url</th>\n",
       "      <th>volumeNumber</th>\n",
       "      <th>wordCount</th>\n",
       "      <th>numMatches</th>\n",
       "      <th>Locations in A</th>\n",
       "      <th>Locations in B</th>\n",
       "      <th>abstract</th>\n",
       "      <th>keyphrase</th>\n",
       "      <th>subTitle</th>\n",
       "    </tr>\n",
       "  </thead>\n",
       "  <tbody>\n",
       "    <tr>\n",
       "      <th>0</th>\n",
       "      <td>[Rainer Emig]</td>\n",
       "      <td>2006-01-01</td>\n",
       "      <td>book-review</td>\n",
       "      <td>article</td>\n",
       "      <td>http://www.jstor.org/stable/41158244</td>\n",
       "      <td>[{'name': 'issn', 'value': '03402827'}, {'name...</td>\n",
       "      <td>Amerikastudien / American Studies</td>\n",
       "      <td>3</td>\n",
       "      <td>[eng]</td>\n",
       "      <td>[unigram, bigram, trigram]</td>\n",
       "      <td>...</td>\n",
       "      <td>Review Article</td>\n",
       "      <td>http://www.jstor.org/stable/41158244</td>\n",
       "      <td>51</td>\n",
       "      <td>1109</td>\n",
       "      <td>0</td>\n",
       "      <td>[]</td>\n",
       "      <td>[]</td>\n",
       "      <td>None</td>\n",
       "      <td>None</td>\n",
       "      <td>None</td>\n",
       "    </tr>\n",
       "    <tr>\n",
       "      <th>1</th>\n",
       "      <td>[Martin Green]</td>\n",
       "      <td>1970-01-01</td>\n",
       "      <td>book-review</td>\n",
       "      <td>article</td>\n",
       "      <td>http://www.jstor.org/stable/3722819</td>\n",
       "      <td>[{'name': 'issn', 'value': '00267937'}, {'name...</td>\n",
       "      <td>The Modern Language Review</td>\n",
       "      <td>1</td>\n",
       "      <td>[eng]</td>\n",
       "      <td>[unigram, bigram, trigram]</td>\n",
       "      <td>...</td>\n",
       "      <td>Review Article</td>\n",
       "      <td>http://www.jstor.org/stable/3722819</td>\n",
       "      <td>65</td>\n",
       "      <td>1342</td>\n",
       "      <td>0</td>\n",
       "      <td>[]</td>\n",
       "      <td>[]</td>\n",
       "      <td>None</td>\n",
       "      <td>None</td>\n",
       "      <td>None</td>\n",
       "    </tr>\n",
       "    <tr>\n",
       "      <th>2</th>\n",
       "      <td>[Richard Exner]</td>\n",
       "      <td>1982-01-01</td>\n",
       "      <td>book-review</td>\n",
       "      <td>article</td>\n",
       "      <td>http://www.jstor.org/stable/40137021</td>\n",
       "      <td>[{'name': 'issn', 'value': '01963570'}, {'name...</td>\n",
       "      <td>World Literature Today</td>\n",
       "      <td>1</td>\n",
       "      <td>[eng]</td>\n",
       "      <td>[unigram, bigram, trigram]</td>\n",
       "      <td>...</td>\n",
       "      <td>Review Article</td>\n",
       "      <td>http://www.jstor.org/stable/40137021</td>\n",
       "      <td>56</td>\n",
       "      <td>493</td>\n",
       "      <td>0</td>\n",
       "      <td>[]</td>\n",
       "      <td>[]</td>\n",
       "      <td>None</td>\n",
       "      <td>None</td>\n",
       "      <td>None</td>\n",
       "    </tr>\n",
       "    <tr>\n",
       "      <th>3</th>\n",
       "      <td>[Ruth Evelyn Henderson]</td>\n",
       "      <td>1925-10-01</td>\n",
       "      <td>research-article</td>\n",
       "      <td>article</td>\n",
       "      <td>http://www.jstor.org/stable/802346</td>\n",
       "      <td>[{'name': 'issn', 'value': '00138274'}, {'name...</td>\n",
       "      <td>The English Journal</td>\n",
       "      <td>8</td>\n",
       "      <td>[eng]</td>\n",
       "      <td>[unigram, bigram, trigram, fullText]</td>\n",
       "      <td>...</td>\n",
       "      <td>American Education Week--November 16-22; Some ...</td>\n",
       "      <td>http://www.jstor.org/stable/802346</td>\n",
       "      <td>14</td>\n",
       "      <td>2161</td>\n",
       "      <td>0</td>\n",
       "      <td>[]</td>\n",
       "      <td>[]</td>\n",
       "      <td>None</td>\n",
       "      <td>None</td>\n",
       "      <td>None</td>\n",
       "    </tr>\n",
       "    <tr>\n",
       "      <th>4</th>\n",
       "      <td>[Alan Palmer]</td>\n",
       "      <td>2011-12-01</td>\n",
       "      <td>research-article</td>\n",
       "      <td>article</td>\n",
       "      <td>http://www.jstor.org/stable/10.5325/style.45.4...</td>\n",
       "      <td>[{'name': 'issn', 'value': '00394238'}, {'name...</td>\n",
       "      <td>Style</td>\n",
       "      <td>4</td>\n",
       "      <td>[eng]</td>\n",
       "      <td>[unigram, bigram, trigram]</td>\n",
       "      <td>...</td>\n",
       "      <td>Rejoinder to Response by Marie-Laure Ryan</td>\n",
       "      <td>http://www.jstor.org/stable/10.5325/style.45.4...</td>\n",
       "      <td>45</td>\n",
       "      <td>1127</td>\n",
       "      <td>0</td>\n",
       "      <td>[]</td>\n",
       "      <td>[]</td>\n",
       "      <td>None</td>\n",
       "      <td>None</td>\n",
       "      <td>None</td>\n",
       "    </tr>\n",
       "    <tr>\n",
       "      <th>...</th>\n",
       "      <td>...</td>\n",
       "      <td>...</td>\n",
       "      <td>...</td>\n",
       "      <td>...</td>\n",
       "      <td>...</td>\n",
       "      <td>...</td>\n",
       "      <td>...</td>\n",
       "      <td>...</td>\n",
       "      <td>...</td>\n",
       "      <td>...</td>\n",
       "      <td>...</td>\n",
       "      <td>...</td>\n",
       "      <td>...</td>\n",
       "      <td>...</td>\n",
       "      <td>...</td>\n",
       "      <td>...</td>\n",
       "      <td>...</td>\n",
       "      <td>...</td>\n",
       "      <td>...</td>\n",
       "      <td>...</td>\n",
       "      <td>...</td>\n",
       "    </tr>\n",
       "    <tr>\n",
       "      <th>5879</th>\n",
       "      <td>[Michaela Giesenkirchen]</td>\n",
       "      <td>2005-10-01</td>\n",
       "      <td>research-article</td>\n",
       "      <td>article</td>\n",
       "      <td>http://www.jstor.org/stable/27747183</td>\n",
       "      <td>[{'name': 'issn', 'value': '15403084'}, {'name...</td>\n",
       "      <td>American Literary Realism</td>\n",
       "      <td>1</td>\n",
       "      <td>[eng]</td>\n",
       "      <td>[unigram, bigram, trigram]</td>\n",
       "      <td>...</td>\n",
       "      <td>Ethnic Types and Problems of Characterization ...</td>\n",
       "      <td>http://www.jstor.org/stable/27747183</td>\n",
       "      <td>38</td>\n",
       "      <td>7349</td>\n",
       "      <td>1</td>\n",
       "      <td>[[23799, 24121]]</td>\n",
       "      <td>[[41472, 41793]]</td>\n",
       "      <td>None</td>\n",
       "      <td>None</td>\n",
       "      <td>None</td>\n",
       "    </tr>\n",
       "    <tr>\n",
       "      <th>5880</th>\n",
       "      <td>[Leon Botstein]</td>\n",
       "      <td>2005-07-01</td>\n",
       "      <td>misc</td>\n",
       "      <td>article</td>\n",
       "      <td>http://www.jstor.org/stable/4123220</td>\n",
       "      <td>[{'name': 'issn', 'value': '00274631'}, {'name...</td>\n",
       "      <td>The Musical Quarterly</td>\n",
       "      <td>2</td>\n",
       "      <td>[eng]</td>\n",
       "      <td>[unigram, bigram, trigram]</td>\n",
       "      <td>...</td>\n",
       "      <td>On the Power of Music</td>\n",
       "      <td>http://www.jstor.org/stable/4123220</td>\n",
       "      <td>88</td>\n",
       "      <td>1525</td>\n",
       "      <td>0</td>\n",
       "      <td>[]</td>\n",
       "      <td>[]</td>\n",
       "      <td>None</td>\n",
       "      <td>None</td>\n",
       "      <td>None</td>\n",
       "    </tr>\n",
       "    <tr>\n",
       "      <th>5881</th>\n",
       "      <td>[Linda M. Shires]</td>\n",
       "      <td>2013-01-01</td>\n",
       "      <td>research-article</td>\n",
       "      <td>article</td>\n",
       "      <td>http://www.jstor.org/stable/24575734</td>\n",
       "      <td>[{'name': 'issn', 'value': '10601503'}, {'name...</td>\n",
       "      <td>Victorian Literature and Culture</td>\n",
       "      <td>4</td>\n",
       "      <td>[eng]</td>\n",
       "      <td>[unigram, bigram, trigram]</td>\n",
       "      <td>...</td>\n",
       "      <td>HARDY'S MEMORIAL ART: IMAGE AND TEXT IN \"WESSE...</td>\n",
       "      <td>http://www.jstor.org/stable/24575734</td>\n",
       "      <td>41</td>\n",
       "      <td>10736</td>\n",
       "      <td>1</td>\n",
       "      <td>[[173657, 173756]]</td>\n",
       "      <td>[[33963, 34061]]</td>\n",
       "      <td>None</td>\n",
       "      <td>None</td>\n",
       "      <td>None</td>\n",
       "    </tr>\n",
       "    <tr>\n",
       "      <th>5882</th>\n",
       "      <td>[Edward H. Cohen]</td>\n",
       "      <td>1990-07-01</td>\n",
       "      <td>misc</td>\n",
       "      <td>article</td>\n",
       "      <td>http://www.jstor.org/stable/3827815</td>\n",
       "      <td>[{'name': 'issn', 'value': '00425222'}, {'name...</td>\n",
       "      <td>Victorian Studies</td>\n",
       "      <td>4</td>\n",
       "      <td>[eng]</td>\n",
       "      <td>[unigram, bigram, trigram]</td>\n",
       "      <td>...</td>\n",
       "      <td>Victorian Bibliography for 1989</td>\n",
       "      <td>http://www.jstor.org/stable/3827815</td>\n",
       "      <td>33</td>\n",
       "      <td>81819</td>\n",
       "      <td>0</td>\n",
       "      <td>[]</td>\n",
       "      <td>[]</td>\n",
       "      <td>None</td>\n",
       "      <td>None</td>\n",
       "      <td>None</td>\n",
       "    </tr>\n",
       "    <tr>\n",
       "      <th>5883</th>\n",
       "      <td>None</td>\n",
       "      <td>1964-06-01</td>\n",
       "      <td>misc</td>\n",
       "      <td>article</td>\n",
       "      <td>http://www.jstor.org/stable/2932781</td>\n",
       "      <td>[{'name': 'issn', 'value': '00290564'}, {'name...</td>\n",
       "      <td>Nineteenth-Century Fiction</td>\n",
       "      <td>1</td>\n",
       "      <td>[eng]</td>\n",
       "      <td>[unigram, bigram, trigram]</td>\n",
       "      <td>...</td>\n",
       "      <td>Volume Information</td>\n",
       "      <td>http://www.jstor.org/stable/2932781</td>\n",
       "      <td>19</td>\n",
       "      <td>694</td>\n",
       "      <td>0</td>\n",
       "      <td>[]</td>\n",
       "      <td>[]</td>\n",
       "      <td>None</td>\n",
       "      <td>None</td>\n",
       "      <td>None</td>\n",
       "    </tr>\n",
       "  </tbody>\n",
       "</table>\n",
       "<p>5884 rows × 29 columns</p>\n",
       "</div>"
      ],
      "text/plain": [
       "                       creator datePublished        docSubType  docType  \\\n",
       "0                [Rainer Emig]    2006-01-01       book-review  article   \n",
       "1               [Martin Green]    1970-01-01       book-review  article   \n",
       "2              [Richard Exner]    1982-01-01       book-review  article   \n",
       "3      [Ruth Evelyn Henderson]    1925-10-01  research-article  article   \n",
       "4                [Alan Palmer]    2011-12-01  research-article  article   \n",
       "...                        ...           ...               ...      ...   \n",
       "5879  [Michaela Giesenkirchen]    2005-10-01  research-article  article   \n",
       "5880           [Leon Botstein]    2005-07-01              misc  article   \n",
       "5881         [Linda M. Shires]    2013-01-01  research-article  article   \n",
       "5882         [Edward H. Cohen]    1990-07-01              misc  article   \n",
       "5883                      None    1964-06-01              misc  article   \n",
       "\n",
       "                                                     id  \\\n",
       "0                  http://www.jstor.org/stable/41158244   \n",
       "1                   http://www.jstor.org/stable/3722819   \n",
       "2                  http://www.jstor.org/stable/40137021   \n",
       "3                    http://www.jstor.org/stable/802346   \n",
       "4     http://www.jstor.org/stable/10.5325/style.45.4...   \n",
       "...                                                 ...   \n",
       "5879               http://www.jstor.org/stable/27747183   \n",
       "5880                http://www.jstor.org/stable/4123220   \n",
       "5881               http://www.jstor.org/stable/24575734   \n",
       "5882                http://www.jstor.org/stable/3827815   \n",
       "5883                http://www.jstor.org/stable/2932781   \n",
       "\n",
       "                                             identifier  \\\n",
       "0     [{'name': 'issn', 'value': '03402827'}, {'name...   \n",
       "1     [{'name': 'issn', 'value': '00267937'}, {'name...   \n",
       "2     [{'name': 'issn', 'value': '01963570'}, {'name...   \n",
       "3     [{'name': 'issn', 'value': '00138274'}, {'name...   \n",
       "4     [{'name': 'issn', 'value': '00394238'}, {'name...   \n",
       "...                                                 ...   \n",
       "5879  [{'name': 'issn', 'value': '15403084'}, {'name...   \n",
       "5880  [{'name': 'issn', 'value': '00274631'}, {'name...   \n",
       "5881  [{'name': 'issn', 'value': '10601503'}, {'name...   \n",
       "5882  [{'name': 'issn', 'value': '00425222'}, {'name...   \n",
       "5883  [{'name': 'issn', 'value': '00290564'}, {'name...   \n",
       "\n",
       "                               isPartOf issueNumber language  \\\n",
       "0     Amerikastudien / American Studies           3    [eng]   \n",
       "1            The Modern Language Review           1    [eng]   \n",
       "2                World Literature Today           1    [eng]   \n",
       "3                   The English Journal           8    [eng]   \n",
       "4                                 Style           4    [eng]   \n",
       "...                                 ...         ...      ...   \n",
       "5879          American Literary Realism           1    [eng]   \n",
       "5880              The Musical Quarterly           2    [eng]   \n",
       "5881   Victorian Literature and Culture           4    [eng]   \n",
       "5882                  Victorian Studies           4    [eng]   \n",
       "5883         Nineteenth-Century Fiction           1    [eng]   \n",
       "\n",
       "                              outputFormat  ...  \\\n",
       "0               [unigram, bigram, trigram]  ...   \n",
       "1               [unigram, bigram, trigram]  ...   \n",
       "2               [unigram, bigram, trigram]  ...   \n",
       "3     [unigram, bigram, trigram, fullText]  ...   \n",
       "4               [unigram, bigram, trigram]  ...   \n",
       "...                                    ...  ...   \n",
       "5879            [unigram, bigram, trigram]  ...   \n",
       "5880            [unigram, bigram, trigram]  ...   \n",
       "5881            [unigram, bigram, trigram]  ...   \n",
       "5882            [unigram, bigram, trigram]  ...   \n",
       "5883            [unigram, bigram, trigram]  ...   \n",
       "\n",
       "                                                  title  \\\n",
       "0                                        Review Article   \n",
       "1                                        Review Article   \n",
       "2                                        Review Article   \n",
       "3     American Education Week--November 16-22; Some ...   \n",
       "4             Rejoinder to Response by Marie-Laure Ryan   \n",
       "...                                                 ...   \n",
       "5879  Ethnic Types and Problems of Characterization ...   \n",
       "5880                              On the Power of Music   \n",
       "5881  HARDY'S MEMORIAL ART: IMAGE AND TEXT IN \"WESSE...   \n",
       "5882                    Victorian Bibliography for 1989   \n",
       "5883                                 Volume Information   \n",
       "\n",
       "                                                    url volumeNumber  \\\n",
       "0                  http://www.jstor.org/stable/41158244           51   \n",
       "1                   http://www.jstor.org/stable/3722819           65   \n",
       "2                  http://www.jstor.org/stable/40137021           56   \n",
       "3                    http://www.jstor.org/stable/802346           14   \n",
       "4     http://www.jstor.org/stable/10.5325/style.45.4...           45   \n",
       "...                                                 ...          ...   \n",
       "5879               http://www.jstor.org/stable/27747183           38   \n",
       "5880                http://www.jstor.org/stable/4123220           88   \n",
       "5881               http://www.jstor.org/stable/24575734           41   \n",
       "5882                http://www.jstor.org/stable/3827815           33   \n",
       "5883                http://www.jstor.org/stable/2932781           19   \n",
       "\n",
       "     wordCount numMatches      Locations in A    Locations in B abstract  \\\n",
       "0         1109          0                  []                []     None   \n",
       "1         1342          0                  []                []     None   \n",
       "2          493          0                  []                []     None   \n",
       "3         2161          0                  []                []     None   \n",
       "4         1127          0                  []                []     None   \n",
       "...        ...        ...                 ...               ...      ...   \n",
       "5879      7349          1    [[23799, 24121]]  [[41472, 41793]]     None   \n",
       "5880      1525          0                  []                []     None   \n",
       "5881     10736          1  [[173657, 173756]]  [[33963, 34061]]     None   \n",
       "5882     81819          0                  []                []     None   \n",
       "5883       694          0                  []                []     None   \n",
       "\n",
       "     keyphrase subTitle  \n",
       "0         None     None  \n",
       "1         None     None  \n",
       "2         None     None  \n",
       "3         None     None  \n",
       "4         None     None  \n",
       "...        ...      ...  \n",
       "5879      None     None  \n",
       "5880      None     None  \n",
       "5881      None     None  \n",
       "5882      None     None  \n",
       "5883      None     None  \n",
       "\n",
       "[5884 rows x 29 columns]"
      ]
     },
     "execution_count": 13,
     "metadata": {},
     "output_type": "execute_result"
    }
   ],
   "source": [
    "df"
   ]
  },
  {
   "cell_type": "code",
   "execution_count": 7,
   "metadata": {},
   "outputs": [],
   "source": [
    "# Load the data. \n",
    "with open('part-1.jsonl') as f: \n",
    "    rawCriticism = f.readlines()\n",
    "\n",
    "# Parse the data. \n",
    "data = [json.loads(line) for line in rawCriticism]\n",
    "\n",
    "# Load Middlemarch\n",
    "with open('middlemarch.txt') as f: \n",
    "    rawMM = f.read()\n",
    "\n",
    "mm = Text(rawMM, 'Middlemarch')"
   ]
  },
  {
   "cell_type": "code",
   "execution_count": 8,
   "metadata": {},
   "outputs": [],
   "source": [
    "with open('default.json', 'w') as outfile: \n",
    "    json.dump(data, outfile)"
   ]
  },
  {
   "cell_type": "code",
   "execution_count": 7,
   "metadata": {},
   "outputs": [],
   "source": [
    "df = pd.read_json('default.json')"
   ]
  },
  {
   "cell_type": "code",
   "execution_count": 5,
   "metadata": {},
   "outputs": [],
   "source": [
    "pd.set_option('display.max_colwidth', None)"
   ]
  },
  {
   "cell_type": "markdown",
   "metadata": {},
   "source": [
    "## Checking index consistence (redux)"
   ]
  },
  {
   "cell_type": "code",
   "execution_count": 8,
   "metadata": {},
   "outputs": [
    {
     "data": {
      "text/html": [
       "<div>\n",
       "<style scoped>\n",
       "    .dataframe tbody tr th:only-of-type {\n",
       "        vertical-align: middle;\n",
       "    }\n",
       "\n",
       "    .dataframe tbody tr th {\n",
       "        vertical-align: top;\n",
       "    }\n",
       "\n",
       "    .dataframe thead th {\n",
       "        text-align: right;\n",
       "    }\n",
       "</style>\n",
       "<table border=\"1\" class=\"dataframe\">\n",
       "  <thead>\n",
       "    <tr style=\"text-align: right;\">\n",
       "      <th></th>\n",
       "      <th>creator</th>\n",
       "      <th>datePublished</th>\n",
       "      <th>docSubType</th>\n",
       "      <th>docType</th>\n",
       "      <th>fullText</th>\n",
       "      <th>id</th>\n",
       "      <th>identifier</th>\n",
       "      <th>isPartOf</th>\n",
       "      <th>issueNumber</th>\n",
       "      <th>language</th>\n",
       "      <th>...</th>\n",
       "      <th>title</th>\n",
       "      <th>url</th>\n",
       "      <th>volumeNumber</th>\n",
       "      <th>wordCount</th>\n",
       "      <th>numMatches</th>\n",
       "      <th>Locations in A</th>\n",
       "      <th>Locations in B</th>\n",
       "      <th>abstract</th>\n",
       "      <th>keyphrase</th>\n",
       "      <th>subTitle</th>\n",
       "    </tr>\n",
       "  </thead>\n",
       "  <tbody>\n",
       "    <tr>\n",
       "      <th>775</th>\n",
       "      <td>[Andrew Travers]</td>\n",
       "      <td>1992-12-01</td>\n",
       "      <td>research-article</td>\n",
       "      <td>article</td>\n",
       "      <td>[Andrew Travers Strangers to themselves: how i...</td>\n",
       "      <td>http://www.jstor.org/stable/591341</td>\n",
       "      <td>[{'name': 'issn', 'value': '00071315'}, {'name...</td>\n",
       "      <td>The British Journal of Sociology</td>\n",
       "      <td>4</td>\n",
       "      <td>[eng]</td>\n",
       "      <td>...</td>\n",
       "      <td>Strangers to Themselves: How Interactants Are ...</td>\n",
       "      <td>http://www.jstor.org/stable/591341</td>\n",
       "      <td>43</td>\n",
       "      <td>16904</td>\n",
       "      <td>1</td>\n",
       "      <td>[[242360, 242909]]</td>\n",
       "      <td>[[81986, 82529]]</td>\n",
       "      <td>Analysis of a sequence of literary frames sugg...</td>\n",
       "      <td>NaN</td>\n",
       "      <td>NaN</td>\n",
       "    </tr>\n",
       "  </tbody>\n",
       "</table>\n",
       "<p>1 rows × 30 columns</p>\n",
       "</div>"
      ],
      "text/plain": [
       "              creator datePublished        docSubType  docType  \\\n",
       "775  [Andrew Travers]    1992-12-01  research-article  article   \n",
       "\n",
       "                                              fullText  \\\n",
       "775  [Andrew Travers Strangers to themselves: how i...   \n",
       "\n",
       "                                     id  \\\n",
       "775  http://www.jstor.org/stable/591341   \n",
       "\n",
       "                                            identifier  \\\n",
       "775  [{'name': 'issn', 'value': '00071315'}, {'name...   \n",
       "\n",
       "                             isPartOf issueNumber language  ...  \\\n",
       "775  The British Journal of Sociology           4    [eng]  ...   \n",
       "\n",
       "                                                 title  \\\n",
       "775  Strangers to Themselves: How Interactants Are ...   \n",
       "\n",
       "                                    url volumeNumber wordCount numMatches  \\\n",
       "775  http://www.jstor.org/stable/591341           43     16904          1   \n",
       "\n",
       "         Locations in A    Locations in B  \\\n",
       "775  [[242360, 242909]]  [[81986, 82529]]   \n",
       "\n",
       "                                              abstract keyphrase subTitle  \n",
       "775  Analysis of a sequence of literary frames sugg...       NaN      NaN  \n",
       "\n",
       "[1 rows x 30 columns]"
      ]
     },
     "execution_count": 8,
     "metadata": {},
     "output_type": "execute_result"
    }
   ],
   "source": [
    "test = df[df['id'].str.contains('http://www.jstor.org/stable/591341')]\n",
    "test"
   ]
  },
  {
   "cell_type": "code",
   "execution_count": 25,
   "metadata": {},
   "outputs": [],
   "source": [
    "# Getting full text of a particular article using the locator method\n",
    "demo = df['fullText'].loc[4829]"
   ]
  },
  {
   "cell_type": "code",
   "execution_count": 10,
   "metadata": {},
   "outputs": [
    {
     "data": {
      "text/plain": [
       "'Yet what miserable men find such things, and work at them, and\\nsell'"
      ]
     },
     "execution_count": 10,
     "metadata": {},
     "output_type": "execute_result"
    }
   ],
   "source": [
    "mm.text[19519:19586]"
   ]
  },
  {
   "cell_type": "code",
   "execution_count": 26,
   "metadata": {},
   "outputs": [
    {
     "data": {
      "text/plain": [
       "'Yet what miserable men find such things and work at them and sell'"
      ]
     },
     "execution_count": 26,
     "metadata": {},
     "output_type": "execute_result"
    }
   ],
   "source": [
    "weisenfarth = Text(demo, \"Weisenfarth\")\n",
    "weisenfarth.text[4417:4482]"
   ]
  },
  {
   "cell_type": "code",
   "execution_count": null,
   "metadata": {},
   "outputs": [],
   "source": [
    "weisenfarth.text"
   ]
  },
  {
   "cell_type": "markdown",
   "metadata": {},
   "source": [
    "## Checking index consistency\n",
    "\n",
    "Let's test with the article: http://www.jstor.org/stable/462077"
   ]
  },
  {
   "cell_type": "code",
   "execution_count": 14,
   "metadata": {},
   "outputs": [],
   "source": [
    "#Input a particular unique identifier\n",
    "article_id  = 'http://www.jstor.org/stable/591341'\n",
    "\n",
    "#Use that identifier to get the index\n",
    "article_index = df[df['id'] == article_id].index[0]\n",
    "article_text = df['fullText'].loc[article_index]\n",
    "article_title = df['title'].loc[article_index]\n",
    "\n",
    "# Because JSTOR outputs article text as a list of strings, we need to concatenate them into one\n",
    "cleaned_article_text = Text(article_text, article_title)"
   ]
  },
  {
   "cell_type": "code",
   "execution_count": 15,
   "metadata": {
    "scrolled": true
   },
   "outputs": [
    {
     "name": "stdout",
     "output_type": "stream",
     "text": [
      "Middlemarch character indexes:\n"
     ]
    },
    {
     "data": {
      "text/plain": [
       "[[242360, 242909]]"
      ]
     },
     "execution_count": 15,
     "metadata": {},
     "output_type": "execute_result"
    }
   ],
   "source": [
    "# What are the locations in A?\n",
    "print(\"Middlemarch character indexes:\")\n",
    "df.loc[df['id'] == article_id, 'Locations in A'].item()"
   ]
  },
  {
   "cell_type": "code",
   "execution_count": 16,
   "metadata": {},
   "outputs": [
    {
     "name": "stdout",
     "output_type": "stream",
     "text": [
      "Middlemarch character indexes: [242360, 242909]\n"
     ]
    },
    {
     "data": {
      "text/plain": [
       "'Miss Vincy is a musician?\" said Lydgate, following her with his eyes.\\n(Every nerve and muscle in Rosamond was adjusted to the consciousness\\nthat she was being looked at.  She was by nature an actress of parts\\nthat entered into her physique: she even acted her own character, and\\nso well, that she did not know it to be precisely her own.)\\n\\n\"The best in Middlemarch, I\\'ll be bound,\" said Mr. Featherstone, \"let\\nthe next be who she will.  Eh, Fred?  Speak up for your sister.\"\\n\\n\"I\\'m afraid I\\'m out of court, sir.  My evidence would be good for\\nnothing'"
      ]
     },
     "execution_count": 16,
     "metadata": {},
     "output_type": "execute_result"
    }
   ],
   "source": [
    "# Let's look at an example.\n",
    "print(\"Middlemarch character indexes:\", df.loc[df['id'] == article_id, 'Locations in A'].item()[0])\n",
    "mm.text[242360:242909]"
   ]
  },
  {
   "cell_type": "code",
   "execution_count": 17,
   "metadata": {},
   "outputs": [
    {
     "name": "stdout",
     "output_type": "stream",
     "text": [
      "Character index locations in B:\n"
     ]
    },
    {
     "data": {
      "text/plain": [
       "[[81986, 82529]]"
      ]
     },
     "execution_count": 17,
     "metadata": {},
     "output_type": "execute_result"
    }
   ],
   "source": [
    "# What are the locations in B?\n",
    "print(\"Character index locations in B:\")\n",
    "df.loc[df['id'] == article_id, 'Locations in B'].item()"
   ]
  },
  {
   "cell_type": "code",
   "execution_count": 18,
   "metadata": {},
   "outputs": [
    {
     "data": {
      "text/plain": [
       "\"Miss Vincy is a musician?' said Lydgate, following her with his eyes. (Every nerve and muscle in Rosamond was adjusted to the consciousness that she was being looked at. She was by nature an actress of parts that entered into her phyzique: she even acted her own character, and so well, that she did not know it to be precisely her own.) 'The best in Middlemarch, I'll be bound,' said Mr. Featherstone, 'let the next be who she will. Eh, Fred? Speak up for your sister.' 'I'm afraid I'm out of court, sir. My evidence would be good for nothing\""
      ]
     },
     "execution_count": 18,
     "metadata": {},
     "output_type": "execute_result"
    }
   ],
   "source": [
    "cleaned_article_text.text[81986:82529]"
   ]
  },
  {
   "cell_type": "code",
   "execution_count": null,
   "metadata": {},
   "outputs": [],
   "source": [
    "# MT indexes: [[(82336, 82879), (82915, 83612)]]\n",
    "cleaned_article_text.text[8233:82880]"
   ]
  },
  {
   "cell_type": "code",
   "execution_count": 20,
   "metadata": {},
   "outputs": [
    {
     "data": {
      "text/plain": [
       "\"Miss Vincy is a musician?' said Lydgate, following her with his eyes. (Every nerve and muscle in Rosamond was adjusted to the consciousness that she was being looked at. She was by nature an actress of parts that entered into her phyzique: she even acted her own character, and so well, that she did not know it to be precisely her own.) 'The best in Middlemarch, I'll be bound,' said Mr. Featherstone, 'let the next be who she will. Eh, Fred? Speak up for your sister.' 'I'm afraid I'm out of court, sir. My evidence would be good for nothing\""
      ]
     },
     "execution_count": 20,
     "metadata": {},
     "output_type": "execute_result"
    }
   ],
   "source": [
    "# MT indexes: [[(82336, 82879), (82915, 83612)]]\n",
    "cleaned_article_text.text[82336-350:82879-350]"
   ]
  },
  {
   "cell_type": "code",
   "execution_count": 21,
   "metadata": {},
   "outputs": [
    {
     "data": {
      "text/plain": [
       "'g which is never arrived at by effort, but seems like a sudden divine clearance of haze. I think Lydgate turned a little paler than usual, but Rosamond blushed deeply and felt a certain astonishment. After that, she was really anxious to go, and did not know what sort of stupidity her uncle was talking of when she went to shake hands with him.78 CONCLUSION Social life is destabilized by Mead\\'s \\'Is\\' and normalized by his \\'mes,\\' since the action of the \\'I\\' cannot be \\'calculated and ... involves a reconstruction of the society . . .\\'79 Mead\\'s composite \\'I-me selfs has innovative potential, unlike Goffman\\'s \\'selfs which \\'is not an entity half-concealed behind events [Mead\\'s \"me\"] but a change'"
      ]
     },
     "execution_count": 21,
     "metadata": {},
     "output_type": "execute_result"
    }
   ],
   "source": [
    "# MT indexes: [[(82336, 82879), (82915, 83612)]]\n",
    "cleaned_article_text.text[82915:83612]"
   ]
  },
  {
   "cell_type": "code",
   "execution_count": 22,
   "metadata": {},
   "outputs": [
    {
     "data": {
      "text/plain": [
       "350"
      ]
     },
     "execution_count": 22,
     "metadata": {},
     "output_type": "execute_result"
    }
   ],
   "source": [
    "82915-82565"
   ]
  },
  {
   "cell_type": "code",
   "execution_count": 23,
   "metadata": {},
   "outputs": [
    {
     "data": {
      "text/plain": [
       "352"
      ]
     },
     "execution_count": 23,
     "metadata": {},
     "output_type": "execute_result"
    }
   ],
   "source": [
    "83612-83260"
   ]
  },
  {
   "cell_type": "code",
   "execution_count": 24,
   "metadata": {},
   "outputs": [
    {
     "name": "stdout",
     "output_type": "stream",
     "text": [
      "Starting index: 81986\n",
      "Ending index: 82529\n"
     ]
    }
   ],
   "source": [
    "# Find the index positions of a given quotation\n",
    "# Paste the quotation below\n",
    "quotation = \"Miss Vincy is a musician?' said Lydgate, following her with his eyes. (Every nerve and muscle in Rosamond was adjusted to the consciousness that she was being looked at. She was by nature an actress of parts that entered into her phyzique: she even acted her own character, and so well, that she did not know it to be precisely her own.) 'The best in Middlemarch, I'll be bound,' said Mr. Featherstone, 'let the next be who she will. Eh, Fred? Speak up for your sister.' 'I'm afraid I'm out of court, sir. My evidence would be good for nothing\"\n",
    "\n",
    "index = cleaned_article_text.text.rindex(quotation)\n",
    "print('Starting index:', index) \n",
    "print('Ending index:', index + len(quotation))\n"
   ]
  },
  {
   "cell_type": "code",
   "execution_count": null,
   "metadata": {},
   "outputs": [],
   "source": []
  }
 ],
 "metadata": {
  "kernelspec": {
   "display_name": "Python 3 (ipykernel)",
   "language": "python",
   "name": "python3"
  },
  "language_info": {
   "codemirror_mode": {
    "name": "ipython",
    "version": 3
   },
   "file_extension": ".py",
   "mimetype": "text/x-python",
   "name": "python",
   "nbconvert_exporter": "python",
   "pygments_lexer": "ipython3",
   "version": "3.11.4"
  }
 },
 "nbformat": 4,
 "nbformat_minor": 1
}
