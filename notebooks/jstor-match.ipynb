{
 "cells": [
  {
   "cell_type": "markdown",
   "metadata": {},
   "source": [
    "# Experiment 2A\n",
    "\n",
    "Using the rewritten text matcher. "
   ]
  },
  {
   "cell_type": "code",
   "execution_count": 1,
   "metadata": {},
   "outputs": [],
   "source": [
    "from matcher import Text, Matcher\n",
    "import json\n",
    "import pandas as pd\n",
    "from IPython.display import clear_output\n",
    "%matplotlib inline\n",
    "import matplotlib.pyplot as plt\n",
    "plt.rcParams[\"figure.figsize\"] = [16, 6]"
   ]
  },
  {
   "cell_type": "code",
   "execution_count": 5,
   "metadata": {},
   "outputs": [],
   "source": [
    "# Load the data. \n",
    "with open('../txt/middlemarch.json') as f: \n",
    "    rawCriticism = f.readlines()\n",
    "\n",
    "# Parse the data. \n",
    "data = [json.loads(line) for line in rawCriticism]\n",
    "\n",
    "# Load Middlemarch\n",
    "with open('../middlemarch.txt') as f: \n",
    "    rawMM = f.read()\n",
    "\n",
    "mm = Text(rawMM, 'Middlemarch')"
   ]
  },
  {
   "cell_type": "code",
   "execution_count": 6,
   "metadata": {},
   "outputs": [
    {
     "name": "stdout",
     "output_type": "stream",
     "text": [
      "\r",
      " Matching article 6068 of 6069"
     ]
    }
   ],
   "source": [
    "for i, article in enumerate(data): \n",
    "    clear_output()\n",
    "    print('\\r', 'Matching article %s of %s' % (i, len(data)), end='')\n",
    "    if 'numMatches' not in article: \n",
    "        articleText = Text(article['ocr'], article['id'])\n",
    "        article['numMatches'], article['Locations in A'], article['Locations in B'] = \\\n",
    "        Matcher(mm, articleText).match()"
   ]
  },
  {
   "cell_type": "code",
   "execution_count": 7,
   "metadata": {
    "collapsed": true
   },
   "outputs": [],
   "source": [
    "# Write output somewhere. \n",
    "with open('../txt/e2a.json', 'w') as outfile: \n",
    "    json.dump(data, outfile)"
   ]
  }
 ],
 "metadata": {
  "kernelspec": {
   "display_name": "Python 3",
   "language": "python",
   "name": "python3"
  },
  "language_info": {
   "codemirror_mode": {
    "name": "ipython",
    "version": 3
   },
   "file_extension": ".py",
   "mimetype": "text/x-python",
   "name": "python",
   "nbconvert_exporter": "python",
   "pygments_lexer": "ipython3",
   "version": "3.8.3"
  }
 },
 "nbformat": 4,
 "nbformat_minor": 1
}
