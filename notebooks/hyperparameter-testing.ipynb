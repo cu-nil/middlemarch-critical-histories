{
 "cells": [
  {
   "cell_type": "markdown",
   "metadata": {},
   "source": [
    "# Testing `text-matcher` Hyperparameters\n",
    "\n",
    "\n",
    "Parameters to test:  \n",
    "  -t, --threshold INTEGER    The shortest length of match to include in the\n",
    "                             list of initial matches.\n",
    "\n",
    "  -c, --cutoff INTEGER       The shortest length of match to include in the\n",
    "                             final list of extended matches.\n",
    "\n",
    "  -n, --ngrams INTEGER       The ngram n-value to match against.\n",
    "  \n",
    "  -m, --mindistance INTEGER  The minimum value for distance between two match.\n",
    "  \n",
    "  -l, --logfile TEXT         The name of the log file to write to.\n",
    "\n",
    "\n",
    "`myMatch = Matcher(textObjA, textObjB, threshold=threshold, cutoff=cutoff, ngramSize=ngrams,removeStopwords=stops, minDistance=mindistance, silent=silent)`"
   ]
  },
  {
   "cell_type": "code",
   "execution_count": null,
   "metadata": {},
   "outputs": [],
   "source": [
    "#!jupyter notebook --NotebookApp.iopub_data_rate_limit=1.0e10"
   ]
  },
  {
   "cell_type": "markdown",
   "metadata": {},
   "source": [
    "### Install `text-matcher`"
   ]
  },
  {
   "cell_type": "code",
   "execution_count": null,
   "metadata": {},
   "outputs": [],
   "source": [
    "!pip3 install --user text-matcher"
   ]
  },
  {
   "cell_type": "markdown",
   "metadata": {},
   "source": [
    "## Import libraries"
   ]
  },
  {
   "cell_type": "code",
   "execution_count": 1,
   "metadata": {},
   "outputs": [],
   "source": [
    "from text_matcher.matcher import Text, Matcher\n",
    "import json\n",
    "import pandas as pd\n",
    "from IPython.display import clear_output\n",
    "%matplotlib inline\n",
    "import matplotlib.pyplot as plt\n",
    "plt.rcParams[\"figure.figsize\"] = [16, 6]"
   ]
  },
  {
   "cell_type": "markdown",
   "metadata": {},
   "source": [
    "### Defining filepaths for the text matcher"
   ]
  },
  {
   "cell_type": "markdown",
   "metadata": {},
   "source": [
    "In the current directory we're working in, I have addd a few files that we can try and run.\n",
    "We've imported our text matcher, `matcher`, and now we're going to define two text files for the matcher to process by opening and reading text files in our directory."
   ]
  },
  {
   "cell_type": "code",
   "execution_count": 70,
   "metadata": {},
   "outputs": [],
   "source": [
    "# Load our JSTOR data \n",
    "with open('../../part-1.jsonl') as f: \n",
    "    rawCriticism = f.readlines()\n",
    "\n",
    "# Parse the JSTORdata. \n",
    "data = [json.loads(line) for line in rawCriticism]\n",
    "\n",
    "# Load our Middlemarch text file\n",
    "with open('../middlemarch.txt') as f: \n",
    "    rawMM = f.read()\n",
    "\n",
    "mm = Text(rawMM, 'Middlemarch', removeStopwords=False)"
   ]
  },
  {
   "cell_type": "code",
   "execution_count": 3,
   "metadata": {},
   "outputs": [
    {
     "data": {
      "text/plain": [
       "<text_matcher.matcher.Text at 0x7f902b645460>"
      ]
     },
     "execution_count": 3,
     "metadata": {},
     "output_type": "execute_result"
    }
   ],
   "source": [
    "mm"
   ]
  },
  {
   "cell_type": "code",
   "execution_count": 71,
   "metadata": {},
   "outputs": [
    {
     "name": "stdout",
     "output_type": "stream",
     "text": [
      "\r",
      " Matching article 5883 of 5884"
     ]
    }
   ],
   "source": [
    "for i, article in enumerate(data): \n",
    "    clear_output()\n",
    "    print('\\r', 'Matching article %s of %s' % (i, len(data)), end='')\n",
    "    if 'numMatches' not in article: \n",
    "        articleText = Text(article['fullText'], article['id'], removeStopwords=False)\n",
    "        article['numMatches'], article['Locations in A'], article['Locations in B'] = \\\n",
    "        Matcher(mm, articleText, \\\n",
    "                threshold=3, cutoff=4, ngramSize=3, \\\n",
    "                removeStopwords=False, minDistance=5).match()"
   ]
  },
  {
   "cell_type": "code",
   "execution_count": 72,
   "metadata": {},
   "outputs": [],
   "source": [
    "# Write output somewhere. \n",
    "filepath = '../../../Middlematch/hyperparameter-data/t3-c4-n3-m5-with-stops.json'\n",
    "with open(filepath, 'w') as outfile: \n",
    "    json.dump(data, outfile)"
   ]
  },
  {
   "cell_type": "code",
   "execution_count": 73,
   "metadata": {},
   "outputs": [],
   "source": [
    "# Remove the full text\n",
    "df = pd.read_json(filepath)\n",
    "df.drop('fullText', axis=1, inplace=True)\n",
    "df.to_json(filepath)"
   ]
  },
  {
   "cell_type": "markdown",
   "metadata": {},
   "source": [
    "## Assessing Matches"
   ]
  },
  {
   "cell_type": "code",
   "execution_count": 10,
   "metadata": {},
   "outputs": [],
   "source": [
    "default = pd.read_json('../../../Middlematch/hyperparameter-data/default.json')\n",
    "\n",
    "t3c4n3m8 = pd.read_json('../../../Middlematch/hyperparameter-data/t3-c4-n3-m8-with-stops.json')\n",
    "\n",
    "t3c5n2m8 = pd.read_json('../../../Middlematch/hyperparameter-data/t3-c5-n2-m8-with-stops.json')\n",
    "\n",
    "t3c4n2m8 = pd.read_json('../../../Middlematch/hyperparameter-data/t3-c4-n2-m8-with-stops.json')\n",
    "\n",
    "t3c3n2m8 = pd.read_json('../../../Middlematch/hyperparameter-data/t3-c3-n2-m8-with-stops.json')\n",
    "\n",
    "t3c3n3m8 = pd.read_json('../../../Middlematch/hyperparameter-data/t3-c3-n3-m8-with-stops.json')\n",
    "\n",
    "t3c5n3m1 = pd.read_json('../../../Middlematch/hyperparameter-data/t3-c5-n3-m1-with-stops.json')\n",
    "\n",
    "t2c5n3m8 = pd.read_json('../../../Middlematch/hyperparameter-data/t2-c5-n3-m8-with-stops.json')\n",
    "\n",
    "t2c5n3m1 = pd.read_json('../../../Middlematch/hyperparameter-data/t2-c5-n3-m1-with-stops.json')\n",
    "\n",
    "t2c4n3m1 = pd.read_json('../../../Middlematch/hyperparameter-data/t2-c4-n3-m1-with-stops.json')\n",
    "\n",
    "t2c3n2m8 = pd.read_json('../../../Middlematch/hyperparameter-data/t2-c3-n2-m8-with-stops.json')\n",
    "\n",
    "t2c3n2m1 = pd.read_json('../../../Middlematch/hyperparameter-data/t2-c3-n2-m1-with-stops.json')\n",
    "\n",
    "t2c5n3m8 = pd.read_json('../../../Middlematch/hyperparameter-data/t2-c5-n3-m8-with-stops.json')\n"
   ]
  },
  {
   "cell_type": "markdown",
   "metadata": {},
   "source": [
    "---"
   ]
  },
  {
   "cell_type": "markdown",
   "metadata": {},
   "source": [
    "### For the default settings"
   ]
  },
  {
   "cell_type": "code",
   "execution_count": 12,
   "metadata": {},
   "outputs": [
    {
     "data": {
      "text/html": [
       "<div>\n",
       "<style scoped>\n",
       "    .dataframe tbody tr th:only-of-type {\n",
       "        vertical-align: middle;\n",
       "    }\n",
       "\n",
       "    .dataframe tbody tr th {\n",
       "        vertical-align: top;\n",
       "    }\n",
       "\n",
       "    .dataframe thead th {\n",
       "        text-align: right;\n",
       "    }\n",
       "</style>\n",
       "<table border=\"1\" class=\"dataframe\">\n",
       "  <thead>\n",
       "    <tr style=\"text-align: right;\">\n",
       "      <th></th>\n",
       "      <th>pageCount</th>\n",
       "      <th>publicationYear</th>\n",
       "      <th>wordCount</th>\n",
       "      <th>numMatches</th>\n",
       "    </tr>\n",
       "  </thead>\n",
       "  <tbody>\n",
       "    <tr>\n",
       "      <th>count</th>\n",
       "      <td>925.000000</td>\n",
       "      <td>925.000000</td>\n",
       "      <td>925.000000</td>\n",
       "      <td>925.000000</td>\n",
       "    </tr>\n",
       "    <tr>\n",
       "      <th>mean</th>\n",
       "      <td>17.135135</td>\n",
       "      <td>1992.260541</td>\n",
       "      <td>7975.380541</td>\n",
       "      <td>2.543784</td>\n",
       "    </tr>\n",
       "    <tr>\n",
       "      <th>std</th>\n",
       "      <td>12.675013</td>\n",
       "      <td>18.738177</td>\n",
       "      <td>6109.061051</td>\n",
       "      <td>3.672095</td>\n",
       "    </tr>\n",
       "    <tr>\n",
       "      <th>min</th>\n",
       "      <td>1.000000</td>\n",
       "      <td>1902.000000</td>\n",
       "      <td>469.000000</td>\n",
       "      <td>1.000000</td>\n",
       "    </tr>\n",
       "    <tr>\n",
       "      <th>25%</th>\n",
       "      <td>9.000000</td>\n",
       "      <td>1981.000000</td>\n",
       "      <td>4328.000000</td>\n",
       "      <td>1.000000</td>\n",
       "    </tr>\n",
       "    <tr>\n",
       "      <th>50%</th>\n",
       "      <td>16.000000</td>\n",
       "      <td>1995.000000</td>\n",
       "      <td>7546.000000</td>\n",
       "      <td>1.000000</td>\n",
       "    </tr>\n",
       "    <tr>\n",
       "      <th>75%</th>\n",
       "      <td>22.000000</td>\n",
       "      <td>2007.000000</td>\n",
       "      <td>10478.000000</td>\n",
       "      <td>2.000000</td>\n",
       "    </tr>\n",
       "    <tr>\n",
       "      <th>max</th>\n",
       "      <td>202.000000</td>\n",
       "      <td>2022.000000</td>\n",
       "      <td>109286.000000</td>\n",
       "      <td>39.000000</td>\n",
       "    </tr>\n",
       "  </tbody>\n",
       "</table>\n",
       "</div>"
      ],
      "text/plain": [
       "        pageCount  publicationYear      wordCount  numMatches\n",
       "count  925.000000       925.000000     925.000000  925.000000\n",
       "mean    17.135135      1992.260541    7975.380541    2.543784\n",
       "std     12.675013        18.738177    6109.061051    3.672095\n",
       "min      1.000000      1902.000000     469.000000    1.000000\n",
       "25%      9.000000      1981.000000    4328.000000    1.000000\n",
       "50%     16.000000      1995.000000    7546.000000    1.000000\n",
       "75%     22.000000      2007.000000   10478.000000    2.000000\n",
       "max    202.000000      2022.000000  109286.000000   39.000000"
      ]
     },
     "execution_count": 12,
     "metadata": {},
     "output_type": "execute_result"
    }
   ],
   "source": [
    "articlesWithMatches_default = default[default['Locations in A'].apply(lambda x: len(x) > 0)]\n",
    "articlesWithMatches_default.describe()"
   ]
  },
  {
   "cell_type": "markdown",
   "metadata": {},
   "source": [
    "## For different iterations"
   ]
  },
  {
   "cell_type": "code",
   "execution_count": 13,
   "metadata": {},
   "outputs": [
    {
     "data": {
      "text/html": [
       "<div>\n",
       "<style scoped>\n",
       "    .dataframe tbody tr th:only-of-type {\n",
       "        vertical-align: middle;\n",
       "    }\n",
       "\n",
       "    .dataframe tbody tr th {\n",
       "        vertical-align: top;\n",
       "    }\n",
       "\n",
       "    .dataframe thead th {\n",
       "        text-align: right;\n",
       "    }\n",
       "</style>\n",
       "<table border=\"1\" class=\"dataframe\">\n",
       "  <thead>\n",
       "    <tr style=\"text-align: right;\">\n",
       "      <th></th>\n",
       "      <th>pageCount</th>\n",
       "      <th>publicationYear</th>\n",
       "      <th>wordCount</th>\n",
       "      <th>numMatches</th>\n",
       "    </tr>\n",
       "  </thead>\n",
       "  <tbody>\n",
       "    <tr>\n",
       "      <th>count</th>\n",
       "      <td>1091.000000</td>\n",
       "      <td>1091.000000</td>\n",
       "      <td>1091.000000</td>\n",
       "      <td>1091.000000</td>\n",
       "    </tr>\n",
       "    <tr>\n",
       "      <th>mean</th>\n",
       "      <td>16.870761</td>\n",
       "      <td>1992.224565</td>\n",
       "      <td>7849.823098</td>\n",
       "      <td>2.633364</td>\n",
       "    </tr>\n",
       "    <tr>\n",
       "      <th>std</th>\n",
       "      <td>13.681259</td>\n",
       "      <td>19.162654</td>\n",
       "      <td>6338.232454</td>\n",
       "      <td>4.022340</td>\n",
       "    </tr>\n",
       "    <tr>\n",
       "      <th>min</th>\n",
       "      <td>1.000000</td>\n",
       "      <td>1902.000000</td>\n",
       "      <td>469.000000</td>\n",
       "      <td>1.000000</td>\n",
       "    </tr>\n",
       "    <tr>\n",
       "      <th>25%</th>\n",
       "      <td>9.000000</td>\n",
       "      <td>1981.000000</td>\n",
       "      <td>3963.500000</td>\n",
       "      <td>1.000000</td>\n",
       "    </tr>\n",
       "    <tr>\n",
       "      <th>50%</th>\n",
       "      <td>16.000000</td>\n",
       "      <td>1995.000000</td>\n",
       "      <td>7357.000000</td>\n",
       "      <td>1.000000</td>\n",
       "    </tr>\n",
       "    <tr>\n",
       "      <th>75%</th>\n",
       "      <td>22.000000</td>\n",
       "      <td>2007.500000</td>\n",
       "      <td>10389.000000</td>\n",
       "      <td>2.000000</td>\n",
       "    </tr>\n",
       "    <tr>\n",
       "      <th>max</th>\n",
       "      <td>202.000000</td>\n",
       "      <td>2022.000000</td>\n",
       "      <td>109286.000000</td>\n",
       "      <td>42.000000</td>\n",
       "    </tr>\n",
       "  </tbody>\n",
       "</table>\n",
       "</div>"
      ],
      "text/plain": [
       "         pageCount  publicationYear      wordCount   numMatches\n",
       "count  1091.000000      1091.000000    1091.000000  1091.000000\n",
       "mean     16.870761      1992.224565    7849.823098     2.633364\n",
       "std      13.681259        19.162654    6338.232454     4.022340\n",
       "min       1.000000      1902.000000     469.000000     1.000000\n",
       "25%       9.000000      1981.000000    3963.500000     1.000000\n",
       "50%      16.000000      1995.000000    7357.000000     1.000000\n",
       "75%      22.000000      2007.500000   10389.000000     2.000000\n",
       "max     202.000000      2022.000000  109286.000000    42.000000"
      ]
     },
     "execution_count": 13,
     "metadata": {},
     "output_type": "execute_result"
    }
   ],
   "source": [
    "df_name = t3c3n2m8\n",
    "\n",
    "articlesWithMatches_df_name = df_name[df_name['Locations in A'].apply(lambda x: len(x) > 0)]\n",
    "articlesWithMatches_df_name.describe()\n",
    "#articlesWithMatches_df_name.describe().to_csv('descriptive-stats-on-hyperparameter-match-numbers/t3c5n3m1.csv')"
   ]
  },
  {
   "cell_type": "code",
   "execution_count": 16,
   "metadata": {},
   "outputs": [
    {
     "data": {
      "text/plain": [
       "2016-01-01    12\n",
       "2014-01-01    10\n",
       "2000-01-01    10\n",
       "1983-01-01     9\n",
       "1993-09-01     9\n",
       "              ..\n",
       "1967-09-01     1\n",
       "1982-02-01     1\n",
       "2017-10-01     1\n",
       "1984-11-01     1\n",
       "1955-03-01     1\n",
       "Name: datePublished, Length: 487, dtype: int64"
      ]
     },
     "execution_count": 16,
     "metadata": {},
     "output_type": "execute_result"
    }
   ],
   "source": [
    "articlesWithMatches_df_name['datePublished'].value_counts()"
   ]
  }
 ],
 "metadata": {
  "kernelspec": {
   "display_name": "Python 3",
   "language": "python",
   "name": "python3"
  },
  "language_info": {
   "codemirror_mode": {
    "name": "ipython",
    "version": 3
   },
   "file_extension": ".py",
   "mimetype": "text/x-python",
   "name": "python",
   "nbconvert_exporter": "python",
   "pygments_lexer": "ipython3",
   "version": "3.8.3"
  }
 },
 "nbformat": 4,
 "nbformat_minor": 4
}
