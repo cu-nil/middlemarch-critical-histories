{
 "cells": [
  {
   "cell_type": "markdown",
   "metadata": {},
   "source": [
    "# The Language of Quotations in Journals\n",
    "\n",
    "Do specialists quote different types of language from nonspecialists? "
   ]
  },
  {
   "cell_type": "code",
   "execution_count": 42,
   "metadata": {
    "collapsed": true
   },
   "outputs": [],
   "source": [
    "import spacy\n",
    "import textacy\n",
    "import nltk\n",
    "import numpy as np\n",
    "import pandas as pd\n",
    "from collections import Counter\n",
    "%matplotlib inline\n",
    "import matplotlib.pyplot as plt\n",
    "plt.style.use('ggplot')"
   ]
  },
  {
   "cell_type": "code",
   "execution_count": 2,
   "metadata": {
    "collapsed": true
   },
   "outputs": [],
   "source": [
    "mm = open('../middlemarch.txt').read()"
   ]
  },
  {
   "cell_type": "code",
   "execution_count": 3,
   "metadata": {
    "collapsed": true
   },
   "outputs": [],
   "source": [
    "df = pd.read_json('../txt/e2a.json')"
   ]
  },
  {
   "cell_type": "code",
   "execution_count": 4,
   "metadata": {},
   "outputs": [],
   "source": [
    "grouped = df.groupby('journal')"
   ]
  },
  {
   "cell_type": "code",
   "execution_count": 5,
   "metadata": {},
   "outputs": [],
   "source": [
    "def getText(ranges): \n",
    "    texts = []\n",
    "    for rangeSet in ranges: \n",
    "        for textRange in rangeSet: \n",
    "#             print(textRange)\n",
    "            if len(textRange) > 1: \n",
    "                text = mm[textRange[0]:textRange[1]]\n",
    "                texts.append(text)\n",
    "    return texts"
   ]
  },
  {
   "cell_type": "code",
   "execution_count": 6,
   "metadata": {},
   "outputs": [],
   "source": [
    "journalDict = {}\n",
    "for journal in grouped: \n",
    "    journalDict[journal[0]] = journal[1]['Locations in A'].values"
   ]
  },
  {
   "cell_type": "code",
   "execution_count": 7,
   "metadata": {},
   "outputs": [],
   "source": [
    "textDict = {}\n",
    "for journal in journalDict: \n",
    "    textDict[journal] = getText(journalDict[journal])"
   ]
  },
  {
   "cell_type": "code",
   "execution_count": 8,
   "metadata": {},
   "outputs": [],
   "source": [
    "specialistText = ' '.join(textDict.pop('George Eliot - George Henry Lewes Studies'))\n",
    "specialistText = specialistText.replace('\\n', ' ')"
   ]
  },
  {
   "cell_type": "code",
   "execution_count": 9,
   "metadata": {},
   "outputs": [],
   "source": [
    "nonSpecialistText = ' '.join([' '.join(item) for item in textDict.values()])\n",
    "nonSpecialistText = nonSpecialistText.replace('\\n', ' ')"
   ]
  },
  {
   "cell_type": "code",
   "execution_count": 10,
   "metadata": {
    "collapsed": true
   },
   "outputs": [],
   "source": [
    "st = textacy.Doc(specialistText)\n",
    "nst = textacy.Doc(nonSpecialistText)"
   ]
  },
  {
   "cell_type": "code",
   "execution_count": 11,
   "metadata": {
    "collapsed": true
   },
   "outputs": [],
   "source": [
    "stBag = st.to_bag_of_terms(as_strings=True, weighting='freq')\n",
    "nstBag = nst.to_bag_of_terms(as_strings=True, weighting='freq')"
   ]
  },
  {
   "cell_type": "code",
   "execution_count": 12,
   "metadata": {},
   "outputs": [],
   "source": [
    "stArray = pd.Series(stBag)\n",
    "nstArray = pd.Series(nstBag)"
   ]
  },
  {
   "cell_type": "code",
   "execution_count": 59,
   "metadata": {},
   "outputs": [
    {
     "data": {
      "text/plain": [
       "dorothea        -0.001996\n",
       "live            -0.000711\n",
       "say             -0.000653\n",
       "eye             -0.000600\n",
       "year            -0.000594\n",
       "soul            -0.000538\n",
       "thought         -0.000506\n",
       "need            -0.000489\n",
       "life            -0.000475\n",
       "time            -0.000471\n",
       "feeling         -0.000468\n",
       "cadwallader     -0.000451\n",
       "light           -0.000448\n",
       "bring           -0.000448\n",
       "turn            -0.000448\n",
       "new             -0.000442\n",
       "far             -0.000436\n",
       "human           -0.000433\n",
       "fact            -0.000433\n",
       "consciousness   -0.000430\n",
       "sense           -0.000415\n",
       "day             -0.000413\n",
       "speak           -0.000401\n",
       "call            -0.000401\n",
       "possible        -0.000401\n",
       "deep            -0.000398\n",
       "world           -0.000392\n",
       "knowledge       -0.000392\n",
       "shape           -0.000383\n",
       "social          -0.000366\n",
       "                   ...   \n",
       "green            0.000503\n",
       "pretty           0.000503\n",
       "bare             0.000503\n",
       "beautiful        0.000506\n",
       "gentleman        0.000506\n",
       "say mrs.         0.000520\n",
       "spend            0.000526\n",
       "mean             0.000535\n",
       "second           0.000538\n",
       "gray             0.000541\n",
       "moment           0.000547\n",
       "brooke           0.000549\n",
       "mrs.             0.000552\n",
       "carp             0.000556\n",
       "simply           0.000558\n",
       "pity             0.000576\n",
       "memory           0.000579\n",
       "ought            0.000646\n",
       "man              0.000666\n",
       "farebrother      0.000667\n",
       "avenue           0.000681\n",
       "blue             0.000737\n",
       "backward         0.000775\n",
       "mary             0.000868\n",
       "know             0.000926\n",
       "form             0.000944\n",
       "thing            0.000956\n",
       "ladislaw         0.000994\n",
       "garth            0.001006\n",
       "casaubon         0.001019\n",
       "dtype: float64"
      ]
     },
     "execution_count": 59,
     "metadata": {},
     "output_type": "execute_result"
    }
   ],
   "source": [
    "# Negative values are distinctive of nonspecialists. \n",
    "# Positive values are distinctive of specialists. \n",
    "(stArray - nstArray).fillna(0).sort_values()"
   ]
  },
  {
   "cell_type": "code",
   "execution_count": 47,
   "metadata": {},
   "outputs": [],
   "source": [
    "def POSRepresentation(text): \n",
    "    return [pair[1] for item in text.pos_tagged_text for pair in item]\n",
    "\n",
    "def tagRepresentation(text): \n",
    "    return [w.tag_ for w in text.spacy_doc]\n",
    "\n",
    "def POSStats(text): \n",
    "#     rep = POSRepresentation(text)\n",
    "    rep = tagRepresentation(text)\n",
    "    length = len(rep)\n",
    "    s = pd.Series(rep).value_counts()/length\n",
    "    return s\n",
    "\n",
    "stPOS = POSStats(st)\n",
    "nstPOS = POSStats(nst)"
   ]
  },
  {
   "cell_type": "code",
   "execution_count": 53,
   "metadata": {},
   "outputs": [],
   "source": [
    "df = pd.DataFrame([stPOS, nstPOS], index=['Specialists', 'Nonspecialists']).T"
   ]
  },
  {
   "cell_type": "code",
   "execution_count": 54,
   "metadata": {},
   "outputs": [
    {
     "data": {
      "text/plain": [
       "<matplotlib.axes._subplots.AxesSubplot at 0x7fbb8e0e9fd0>"
      ]
     },
     "execution_count": 54,
     "metadata": {},
     "output_type": "execute_result"
    },
    {
     "data": {
      "image/png": "[encoded data removed]",
      "text/plain": [
       "<matplotlib.figure.Figure at 0x7fbb8e31de10>"
      ]
     },
     "metadata": {},
     "output_type": "display_data"
    }
   ],
   "source": [
    "df.plot(kind='bar', figsize=(16,6))"
   ]
  },
  {
   "cell_type": "code",
   "execution_count": 58,
   "metadata": {},
   "outputs": [
    {
     "data": {
      "text/plain": [
       "<matplotlib.axes._subplots.AxesSubplot at 0x7fbb8cfc1160>"
      ]
     },
     "execution_count": 58,
     "metadata": {},
     "output_type": "execute_result"
    },
    {
     "data": {
      "image/png": "[encoded data removed]",
      "text/plain": [
       "<matplotlib.figure.Figure at 0x7fbb8cff4b38>"
      ]
     },
     "metadata": {},
     "output_type": "display_data"
    }
   ],
   "source": [
    "(df['Specialists'] - df['Nonspecialists']).plot(kind='bar', figsize=(16,6))"
   ]
  },
  {
   "cell_type": "code",
   "execution_count": null,
   "metadata": {
    "collapsed": true
   },
   "outputs": [],
   "source": []
  }
 ],
 "metadata": {
  "kernelspec": {
   "display_name": "Python 3",
   "language": "python",
   "name": "python3"
  },
  "language_info": {
   "codemirror_mode": {
    "name": "ipython",
    "version": 3
   },
   "file_extension": ".py",
   "mimetype": "text/x-python",
   "name": "python",
   "nbconvert_exporter": "python",
   "pygments_lexer": "ipython3",
   "version": "3.8.3"
  }
 },
 "nbformat": 4,
 "nbformat_minor": 2
}
